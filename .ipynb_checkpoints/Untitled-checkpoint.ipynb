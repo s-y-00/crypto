{
 "cells": [
  {
   "cell_type": "code",
   "execution_count": 2,
   "metadata": {},
   "outputs": [],
   "source": [
    "import os\n",
    "import numpy as np\n",
    "import pandas as pd\n",
    "import pickle\n",
    "import quandl\n",
    "from datetime import datetime\n",
    "import numpy as np\n",
    "from scipy import stats\n",
    "import statsmodels.api as sm\n",
    "import matplotlib.pyplot as plt\n",
    "import seaborn as sns"
   ]
  },
  {
   "cell_type": "code",
   "execution_count": 3,
   "metadata": {},
   "outputs": [],
   "source": [
    "btc_usd = quandl.get(\"BITFINEX/BTCUSD\")"
   ]
  },
  {
   "cell_type": "code",
   "execution_count": 4,
   "metadata": {},
   "outputs": [
    {
     "data": {
      "text/html": [
       "<div>\n",
       "<style scoped>\n",
       "    .dataframe tbody tr th:only-of-type {\n",
       "        vertical-align: middle;\n",
       "    }\n",
       "\n",
       "    .dataframe tbody tr th {\n",
       "        vertical-align: top;\n",
       "    }\n",
       "\n",
       "    .dataframe thead th {\n",
       "        text-align: right;\n",
       "    }\n",
       "</style>\n",
       "<table border=\"1\" class=\"dataframe\">\n",
       "  <thead>\n",
       "    <tr style=\"text-align: right;\">\n",
       "      <th></th>\n",
       "      <th>High</th>\n",
       "      <th>Low</th>\n",
       "      <th>Mid</th>\n",
       "      <th>Last</th>\n",
       "      <th>Bid</th>\n",
       "      <th>Ask</th>\n",
       "      <th>Volume</th>\n",
       "    </tr>\n",
       "    <tr>\n",
       "      <th>Date</th>\n",
       "      <th></th>\n",
       "      <th></th>\n",
       "      <th></th>\n",
       "      <th></th>\n",
       "      <th></th>\n",
       "      <th></th>\n",
       "      <th></th>\n",
       "    </tr>\n",
       "  </thead>\n",
       "  <tbody>\n",
       "    <tr>\n",
       "      <th>2014-04-15</th>\n",
       "      <td>513.9000</td>\n",
       "      <td>452.00</td>\n",
       "      <td>504.23500</td>\n",
       "      <td>505.0000</td>\n",
       "      <td>503.5000</td>\n",
       "      <td>504.97</td>\n",
       "      <td>21013.584774</td>\n",
       "    </tr>\n",
       "    <tr>\n",
       "      <th>2014-04-16</th>\n",
       "      <td>547.0000</td>\n",
       "      <td>495.00</td>\n",
       "      <td>537.50000</td>\n",
       "      <td>538.0000</td>\n",
       "      <td>537.0000</td>\n",
       "      <td>538.00</td>\n",
       "      <td>29633.358705</td>\n",
       "    </tr>\n",
       "    <tr>\n",
       "      <th>2014-04-17</th>\n",
       "      <td>538.5000</td>\n",
       "      <td>486.10</td>\n",
       "      <td>507.02000</td>\n",
       "      <td>508.0000</td>\n",
       "      <td>506.0400</td>\n",
       "      <td>508.00</td>\n",
       "      <td>20709.783819</td>\n",
       "    </tr>\n",
       "    <tr>\n",
       "      <th>2014-04-18</th>\n",
       "      <td>509.0000</td>\n",
       "      <td>474.25</td>\n",
       "      <td>483.77000</td>\n",
       "      <td>482.7500</td>\n",
       "      <td>482.7500</td>\n",
       "      <td>484.79</td>\n",
       "      <td>10458.045243</td>\n",
       "    </tr>\n",
       "    <tr>\n",
       "      <th>2014-04-19</th>\n",
       "      <td>513.9899</td>\n",
       "      <td>473.83</td>\n",
       "      <td>505.01065</td>\n",
       "      <td>507.4999</td>\n",
       "      <td>502.5313</td>\n",
       "      <td>507.49</td>\n",
       "      <td>8963.618369</td>\n",
       "    </tr>\n",
       "  </tbody>\n",
       "</table>\n",
       "</div>"
      ],
      "text/plain": [
       "                High     Low        Mid      Last       Bid     Ask  \\\n",
       "Date                                                                  \n",
       "2014-04-15  513.9000  452.00  504.23500  505.0000  503.5000  504.97   \n",
       "2014-04-16  547.0000  495.00  537.50000  538.0000  537.0000  538.00   \n",
       "2014-04-17  538.5000  486.10  507.02000  508.0000  506.0400  508.00   \n",
       "2014-04-18  509.0000  474.25  483.77000  482.7500  482.7500  484.79   \n",
       "2014-04-19  513.9899  473.83  505.01065  507.4999  502.5313  507.49   \n",
       "\n",
       "                  Volume  \n",
       "Date                      \n",
       "2014-04-15  21013.584774  \n",
       "2014-04-16  29633.358705  \n",
       "2014-04-17  20709.783819  \n",
       "2014-04-18  10458.045243  \n",
       "2014-04-19   8963.618369  "
      ]
     },
     "execution_count": 4,
     "metadata": {},
     "output_type": "execute_result"
    }
   ],
   "source": [
    "btc_usd.head()"
   ]
  },
  {
   "cell_type": "code",
   "execution_count": 5,
   "metadata": {},
   "outputs": [
    {
     "data": {
      "text/html": [
       "<div>\n",
       "<style scoped>\n",
       "    .dataframe tbody tr th:only-of-type {\n",
       "        vertical-align: middle;\n",
       "    }\n",
       "\n",
       "    .dataframe tbody tr th {\n",
       "        vertical-align: top;\n",
       "    }\n",
       "\n",
       "    .dataframe thead th {\n",
       "        text-align: right;\n",
       "    }\n",
       "</style>\n",
       "<table border=\"1\" class=\"dataframe\">\n",
       "  <thead>\n",
       "    <tr style=\"text-align: right;\">\n",
       "      <th></th>\n",
       "      <th>High</th>\n",
       "      <th>Low</th>\n",
       "      <th>Mid</th>\n",
       "      <th>Last</th>\n",
       "      <th>Bid</th>\n",
       "      <th>Ask</th>\n",
       "      <th>Volume</th>\n",
       "    </tr>\n",
       "    <tr>\n",
       "      <th>Date</th>\n",
       "      <th></th>\n",
       "      <th></th>\n",
       "      <th></th>\n",
       "      <th></th>\n",
       "      <th></th>\n",
       "      <th></th>\n",
       "      <th></th>\n",
       "    </tr>\n",
       "  </thead>\n",
       "  <tbody>\n",
       "    <tr>\n",
       "      <th>2019-06-28</th>\n",
       "      <td>12369.0</td>\n",
       "      <td>10799.0</td>\n",
       "      <td>12244.5</td>\n",
       "      <td>12244.805006</td>\n",
       "      <td>12241.0</td>\n",
       "      <td>12248.0</td>\n",
       "      <td>33115.313604</td>\n",
       "    </tr>\n",
       "    <tr>\n",
       "      <th>2019-06-29</th>\n",
       "      <td>12417.0</td>\n",
       "      <td>11354.0</td>\n",
       "      <td>12098.5</td>\n",
       "      <td>12098.000000</td>\n",
       "      <td>12098.0</td>\n",
       "      <td>12099.0</td>\n",
       "      <td>20768.574796</td>\n",
       "    </tr>\n",
       "    <tr>\n",
       "      <th>2019-06-30</th>\n",
       "      <td>12234.0</td>\n",
       "      <td>10889.0</td>\n",
       "      <td>10995.5</td>\n",
       "      <td>10995.000000</td>\n",
       "      <td>10995.0</td>\n",
       "      <td>10996.0</td>\n",
       "      <td>17303.444011</td>\n",
       "    </tr>\n",
       "    <tr>\n",
       "      <th>2019-07-01</th>\n",
       "      <td>11231.0</td>\n",
       "      <td>10088.0</td>\n",
       "      <td>10546.5</td>\n",
       "      <td>10537.000000</td>\n",
       "      <td>10546.0</td>\n",
       "      <td>10547.0</td>\n",
       "      <td>26340.341955</td>\n",
       "    </tr>\n",
       "    <tr>\n",
       "      <th>2019-07-02</th>\n",
       "      <td>10965.0</td>\n",
       "      <td>9728.2</td>\n",
       "      <td>10830.5</td>\n",
       "      <td>10830.000000</td>\n",
       "      <td>10830.0</td>\n",
       "      <td>10831.0</td>\n",
       "      <td>28556.246016</td>\n",
       "    </tr>\n",
       "  </tbody>\n",
       "</table>\n",
       "</div>"
      ],
      "text/plain": [
       "               High      Low      Mid          Last      Bid      Ask  \\\n",
       "Date                                                                    \n",
       "2019-06-28  12369.0  10799.0  12244.5  12244.805006  12241.0  12248.0   \n",
       "2019-06-29  12417.0  11354.0  12098.5  12098.000000  12098.0  12099.0   \n",
       "2019-06-30  12234.0  10889.0  10995.5  10995.000000  10995.0  10996.0   \n",
       "2019-07-01  11231.0  10088.0  10546.5  10537.000000  10546.0  10547.0   \n",
       "2019-07-02  10965.0   9728.2  10830.5  10830.000000  10830.0  10831.0   \n",
       "\n",
       "                  Volume  \n",
       "Date                      \n",
       "2019-06-28  33115.313604  \n",
       "2019-06-29  20768.574796  \n",
       "2019-06-30  17303.444011  \n",
       "2019-07-01  26340.341955  \n",
       "2019-07-02  28556.246016  "
      ]
     },
     "execution_count": 5,
     "metadata": {},
     "output_type": "execute_result"
    }
   ],
   "source": [
    "btc_usd.tail()"
   ]
  },
  {
   "cell_type": "code",
   "execution_count": 7,
   "metadata": {},
   "outputs": [],
   "source": [
    "price = pd.Series(btc_usd['Last'], dtype='float')\n",
    "price.index = pd.to_datetime(btc_usd.index) "
   ]
  },
  {
   "cell_type": "code",
   "execution_count": 8,
   "metadata": {},
   "outputs": [
    {
     "data": {
      "text/plain": [
       "Date\n",
       "2014-04-15    505.0000\n",
       "2014-04-16    538.0000\n",
       "2014-04-17    508.0000\n",
       "2014-04-18    482.7500\n",
       "2014-04-19    507.4999\n",
       "Name: Last, dtype: float64"
      ]
     },
     "execution_count": 8,
     "metadata": {},
     "output_type": "execute_result"
    }
   ],
   "source": [
    "price.head()"
   ]
  },
  {
   "cell_type": "code",
   "execution_count": 28,
   "metadata": {},
   "outputs": [
    {
     "data": {
      "text/plain": [
       "array([1.        , 0.99600649, 0.99198854, 0.98776991, 0.98292065,\n",
       "       0.97843045, 0.97405321, 0.96948439, 0.96512913, 0.9604724 ,\n",
       "       0.95588815, 0.95079827, 0.94606872, 0.94164952, 0.93756017,\n",
       "       0.93414493, 0.9305498 , 0.92777888, 0.92471973, 0.92096977,\n",
       "       0.91695518, 0.91252119, 0.90818629, 0.90429998, 0.90056491,\n",
       "       0.89672701, 0.89248795, 0.88868007, 0.88485381, 0.88102411,\n",
       "       0.87685655, 0.87267652, 0.86908473, 0.86547381, 0.86194439,\n",
       "       0.85856758, 0.85514474, 0.85148908, 0.84800233, 0.84442566,\n",
       "       0.84100119])"
      ]
     },
     "execution_count": 28,
     "metadata": {},
     "output_type": "execute_result"
    }
   ],
   "source": [
    "price_acf = sm.tsa.stattools.acf(price, nlags=40) #ラグ=40(デフォルト値)、省略可能\n",
    "price_acf"
   ]
  },
  {
   "cell_type": "code",
   "execution_count": 9,
   "metadata": {},
   "outputs": [
    {
     "data": {
      "text/plain": [
       "[<matplotlib.lines.Line2D at 0x2372d5bd780>]"
      ]
     },
     "execution_count": 9,
     "metadata": {},
     "output_type": "execute_result"
    },
    {
     "data": {
      "image/png": "[encoded data removed]",
      "text/plain": [
       "<Figure size 432x288 with 1 Axes>"
      ]
     },
     "metadata": {},
     "output_type": "display_data"
    }
   ],
   "source": [
    "plt.plot(price)"
   ]
  },
  {
   "cell_type": "code",
   "execution_count": 11,
   "metadata": {},
   "outputs": [
    {
     "data": {
      "image/png": "[encoded data removed]",
      "text/plain": [
       "<Figure size 864x288 with 1 Axes>"
      ]
     },
     "metadata": {},
     "output_type": "display_data"
    }
   ],
   "source": [
    "fig = plt.figure(figsize=(12, 4))\n",
    "ax1 = fig.add_subplot(111)\n",
    "sm.graphics.tsa.plot_acf(price, lags=40, ax=ax1)\n",
    "plt.show()"
   ]
  },
  {
   "cell_type": "code",
   "execution_count": 10,
   "metadata": {},
   "outputs": [],
   "source": [
    "price_change = price.pct_change().to_frame('+1day')"
   ]
  },
  {
   "cell_type": "code",
   "execution_count": 12,
   "metadata": {},
   "outputs": [
    {
     "data": {
      "text/html": [
       "<div>\n",
       "<style scoped>\n",
       "    .dataframe tbody tr th:only-of-type {\n",
       "        vertical-align: middle;\n",
       "    }\n",
       "\n",
       "    .dataframe tbody tr th {\n",
       "        vertical-align: top;\n",
       "    }\n",
       "\n",
       "    .dataframe thead th {\n",
       "        text-align: right;\n",
       "    }\n",
       "</style>\n",
       "<table border=\"1\" class=\"dataframe\">\n",
       "  <thead>\n",
       "    <tr style=\"text-align: right;\">\n",
       "      <th></th>\n",
       "      <th>+1day</th>\n",
       "    </tr>\n",
       "    <tr>\n",
       "      <th>Date</th>\n",
       "      <th></th>\n",
       "    </tr>\n",
       "  </thead>\n",
       "  <tbody>\n",
       "    <tr>\n",
       "      <th>2014-04-15</th>\n",
       "      <td>NaN</td>\n",
       "    </tr>\n",
       "    <tr>\n",
       "      <th>2014-04-16</th>\n",
       "      <td>0.065347</td>\n",
       "    </tr>\n",
       "    <tr>\n",
       "      <th>2014-04-17</th>\n",
       "      <td>-0.055762</td>\n",
       "    </tr>\n",
       "    <tr>\n",
       "      <th>2014-04-18</th>\n",
       "      <td>-0.049705</td>\n",
       "    </tr>\n",
       "    <tr>\n",
       "      <th>2014-04-19</th>\n",
       "      <td>0.051269</td>\n",
       "    </tr>\n",
       "  </tbody>\n",
       "</table>\n",
       "</div>"
      ],
      "text/plain": [
       "               +1day\n",
       "Date                \n",
       "2014-04-15       NaN\n",
       "2014-04-16  0.065347\n",
       "2014-04-17 -0.055762\n",
       "2014-04-18 -0.049705\n",
       "2014-04-19  0.051269"
      ]
     },
     "execution_count": 12,
     "metadata": {},
     "output_type": "execute_result"
    }
   ],
   "source": [
    "price_change.head()"
   ]
  },
  {
   "cell_type": "code",
   "execution_count": 13,
   "metadata": {},
   "outputs": [],
   "source": [
    "price_change['+2day'] = price.pct_change(2)"
   ]
  },
  {
   "cell_type": "code",
   "execution_count": 14,
   "metadata": {},
   "outputs": [
    {
     "data": {
      "text/html": [
       "<div>\n",
       "<style scoped>\n",
       "    .dataframe tbody tr th:only-of-type {\n",
       "        vertical-align: middle;\n",
       "    }\n",
       "\n",
       "    .dataframe tbody tr th {\n",
       "        vertical-align: top;\n",
       "    }\n",
       "\n",
       "    .dataframe thead th {\n",
       "        text-align: right;\n",
       "    }\n",
       "</style>\n",
       "<table border=\"1\" class=\"dataframe\">\n",
       "  <thead>\n",
       "    <tr style=\"text-align: right;\">\n",
       "      <th></th>\n",
       "      <th>+1day</th>\n",
       "      <th>+2day</th>\n",
       "    </tr>\n",
       "    <tr>\n",
       "      <th>Date</th>\n",
       "      <th></th>\n",
       "      <th></th>\n",
       "    </tr>\n",
       "  </thead>\n",
       "  <tbody>\n",
       "    <tr>\n",
       "      <th>2014-04-15</th>\n",
       "      <td>NaN</td>\n",
       "      <td>NaN</td>\n",
       "    </tr>\n",
       "    <tr>\n",
       "      <th>2014-04-16</th>\n",
       "      <td>0.065347</td>\n",
       "      <td>NaN</td>\n",
       "    </tr>\n",
       "    <tr>\n",
       "      <th>2014-04-17</th>\n",
       "      <td>-0.055762</td>\n",
       "      <td>0.005941</td>\n",
       "    </tr>\n",
       "    <tr>\n",
       "      <th>2014-04-18</th>\n",
       "      <td>-0.049705</td>\n",
       "      <td>-0.102695</td>\n",
       "    </tr>\n",
       "    <tr>\n",
       "      <th>2014-04-19</th>\n",
       "      <td>0.051269</td>\n",
       "      <td>-0.000984</td>\n",
       "    </tr>\n",
       "  </tbody>\n",
       "</table>\n",
       "</div>"
      ],
      "text/plain": [
       "               +1day     +2day\n",
       "Date                          \n",
       "2014-04-15       NaN       NaN\n",
       "2014-04-16  0.065347       NaN\n",
       "2014-04-17 -0.055762  0.005941\n",
       "2014-04-18 -0.049705 -0.102695\n",
       "2014-04-19  0.051269 -0.000984"
      ]
     },
     "execution_count": 14,
     "metadata": {},
     "output_type": "execute_result"
    }
   ],
   "source": [
    "price_change.head()"
   ]
  },
  {
   "cell_type": "code",
   "execution_count": 15,
   "metadata": {},
   "outputs": [],
   "source": [
    "price_change['+3day'] = price.pct_change(3)\n",
    "price_change['+4day'] = price.pct_change(4)\n",
    "price_change['+5day'] = price.pct_change(5)\n",
    "price_change['+6day'] = price.pct_change(6)\n",
    "price_change['+7day'] = price.pct_change(7)"
   ]
  },
  {
   "cell_type": "code",
   "execution_count": 16,
   "metadata": {},
   "outputs": [
    {
     "data": {
      "text/html": [
       "<div>\n",
       "<style scoped>\n",
       "    .dataframe tbody tr th:only-of-type {\n",
       "        vertical-align: middle;\n",
       "    }\n",
       "\n",
       "    .dataframe tbody tr th {\n",
       "        vertical-align: top;\n",
       "    }\n",
       "\n",
       "    .dataframe thead th {\n",
       "        text-align: right;\n",
       "    }\n",
       "</style>\n",
       "<table border=\"1\" class=\"dataframe\">\n",
       "  <thead>\n",
       "    <tr style=\"text-align: right;\">\n",
       "      <th></th>\n",
       "      <th>+1day</th>\n",
       "      <th>+2day</th>\n",
       "      <th>+3day</th>\n",
       "      <th>+4day</th>\n",
       "      <th>+5day</th>\n",
       "      <th>+6day</th>\n",
       "      <th>+7day</th>\n",
       "    </tr>\n",
       "    <tr>\n",
       "      <th>Date</th>\n",
       "      <th></th>\n",
       "      <th></th>\n",
       "      <th></th>\n",
       "      <th></th>\n",
       "      <th></th>\n",
       "      <th></th>\n",
       "      <th></th>\n",
       "    </tr>\n",
       "  </thead>\n",
       "  <tbody>\n",
       "    <tr>\n",
       "      <th>2014-04-15</th>\n",
       "      <td>NaN</td>\n",
       "      <td>NaN</td>\n",
       "      <td>NaN</td>\n",
       "      <td>NaN</td>\n",
       "      <td>NaN</td>\n",
       "      <td>NaN</td>\n",
       "      <td>NaN</td>\n",
       "    </tr>\n",
       "    <tr>\n",
       "      <th>2014-04-16</th>\n",
       "      <td>0.065347</td>\n",
       "      <td>NaN</td>\n",
       "      <td>NaN</td>\n",
       "      <td>NaN</td>\n",
       "      <td>NaN</td>\n",
       "      <td>NaN</td>\n",
       "      <td>NaN</td>\n",
       "    </tr>\n",
       "    <tr>\n",
       "      <th>2014-04-17</th>\n",
       "      <td>-0.055762</td>\n",
       "      <td>0.005941</td>\n",
       "      <td>NaN</td>\n",
       "      <td>NaN</td>\n",
       "      <td>NaN</td>\n",
       "      <td>NaN</td>\n",
       "      <td>NaN</td>\n",
       "    </tr>\n",
       "    <tr>\n",
       "      <th>2014-04-18</th>\n",
       "      <td>-0.049705</td>\n",
       "      <td>-0.102695</td>\n",
       "      <td>-0.044059</td>\n",
       "      <td>NaN</td>\n",
       "      <td>NaN</td>\n",
       "      <td>NaN</td>\n",
       "      <td>NaN</td>\n",
       "    </tr>\n",
       "    <tr>\n",
       "      <th>2014-04-19</th>\n",
       "      <td>0.051269</td>\n",
       "      <td>-0.000984</td>\n",
       "      <td>-0.056692</td>\n",
       "      <td>0.00495</td>\n",
       "      <td>NaN</td>\n",
       "      <td>NaN</td>\n",
       "      <td>NaN</td>\n",
       "    </tr>\n",
       "  </tbody>\n",
       "</table>\n",
       "</div>"
      ],
      "text/plain": [
       "               +1day     +2day     +3day    +4day  +5day  +6day  +7day\n",
       "Date                                                                  \n",
       "2014-04-15       NaN       NaN       NaN      NaN    NaN    NaN    NaN\n",
       "2014-04-16  0.065347       NaN       NaN      NaN    NaN    NaN    NaN\n",
       "2014-04-17 -0.055762  0.005941       NaN      NaN    NaN    NaN    NaN\n",
       "2014-04-18 -0.049705 -0.102695 -0.044059      NaN    NaN    NaN    NaN\n",
       "2014-04-19  0.051269 -0.000984 -0.056692  0.00495    NaN    NaN    NaN"
      ]
     },
     "execution_count": 16,
     "metadata": {},
     "output_type": "execute_result"
    }
   ],
   "source": [
    "price_change.head()"
   ]
  },
  {
   "cell_type": "code",
   "execution_count": 25,
   "metadata": {},
   "outputs": [
    {
     "data": {
      "image/png": "[encoded data removed]",
      "text/plain": [
       "<Figure size 432x288 with 1 Axes>"
      ]
     },
     "metadata": {},
     "output_type": "display_data"
    }
   ],
   "source": [
    "fig = plt.figure()\n",
    "ax = fig.add_subplot(111)\n",
    "plt.scatter(price_change['+1day'], price_change['+2day'], alpha=0.5)\n",
    "\n",
    "plt.grid(True)\n",
    "plt.show()"
   ]
  },
  {
   "cell_type": "code",
   "execution_count": 27,
   "metadata": {},
   "outputs": [
    {
     "data": {
      "image/png": "[encoded data removed]",
      "text/plain": [
       "<Figure size 432x288 with 2 Axes>"
      ]
     },
     "metadata": {},
     "output_type": "display_data"
    }
   ],
   "source": [
    "fig=plt.figure()\n",
    "ax=fig.add_subplot(411)\n",
    "plt.scatter(price_change['+1day'], price_change['+2day'], alpha=0.5)\n",
    "ax=fig.add_subplot(412)\n",
    "plt.scatter(price_change['+2day'], price_change['+3day'], alpha=0.5)\n",
    "\n",
    "plt.grid(True)\n",
    "plt.show()"
   ]
  },
  {
   "cell_type": "code",
   "execution_count": null,
   "metadata": {},
   "outputs": [],
   "source": []
  }
 ],
 "metadata": {
  "kernelspec": {
   "display_name": "Python 3",
   "language": "python",
   "name": "python3"
  },
  "language_info": {
   "codemirror_mode": {
    "name": "ipython",
    "version": 3
   },
   "file_extension": ".py",
   "mimetype": "text/x-python",
   "name": "python",
   "nbconvert_exporter": "python",
   "pygments_lexer": "ipython3",
   "version": "3.6.5"
  }
 },
 "nbformat": 4,
 "nbformat_minor": 2
}
